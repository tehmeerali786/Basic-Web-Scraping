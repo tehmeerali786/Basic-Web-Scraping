{
 "cells": [
  {
   "cell_type": "markdown",
   "metadata": {},
   "source": [
    "## Parsing New York City Apartment Listing"
   ]
  },
  {
   "cell_type": "code",
   "execution_count": 1,
   "metadata": {},
   "outputs": [],
   "source": [
    "import requests"
   ]
  },
  {
   "cell_type": "code",
   "execution_count": 2,
   "metadata": {},
   "outputs": [],
   "source": [
    "from bs4 import BeautifulSoup"
   ]
  },
  {
   "cell_type": "code",
   "execution_count": 3,
   "metadata": {},
   "outputs": [],
   "source": [
    "r = requests.get(\"https://newyork.craigslist.org/search/aap\")"
   ]
  },
  {
   "cell_type": "code",
   "execution_count": 4,
   "metadata": {},
   "outputs": [],
   "source": [
    "r.raise_for_status()"
   ]
  },
  {
   "cell_type": "code",
   "execution_count": 6,
   "metadata": {},
   "outputs": [],
   "source": [
    "soup = BeautifulSoup(r.text, 'html.parser')"
   ]
  },
  {
   "cell_type": "code",
   "execution_count": 7,
   "metadata": {},
   "outputs": [],
   "source": [
    "price_spans = soup.select('span .result-price')"
   ]
  },
  {
   "cell_type": "code",
   "execution_count": 8,
   "metadata": {},
   "outputs": [],
   "source": [
    "prices = [int(span.text[1:]) for span in price_spans]"
   ]
  },
  {
   "cell_type": "code",
   "execution_count": 9,
   "metadata": {},
   "outputs": [
    {
     "name": "stdout",
     "output_type": "stream",
     "text": [
      "[2950, 1799, 1845, 1950, 1050, 3002, 3400, 2300, 3667, 2550, 1900, 2300, 3300, 4498, 2411, 2100, 3595, 2690, 2567, 1500, 1800, 4925, 3949, 4100, 2690, 2800, 2350, 2700, 4349, 3299, 2097, 1350, 1850, 1800, 2300, 3950, 1450, 2890, 1050, 3500, 1990, 2850, 2429, 3350, 2360, 950, 2138, 2299, 3050, 2400, 2145, 2699, 4079, 3799, 3000, 3200, 3667, 4200, 2585, 1050, 1725, 2300, 3800, 2250, 1750, 3388, 1800, 1504, 2862, 2659, 3400, 2954, 3000, 2700, 2700, 2395, 2500, 2700, 2860, 2040, 1849, 4200, 2694, 1300, 3500, 1500, 1000, 2550, 3900, 1000, 3290, 2350, 1700, 3300, 800, 2801, 2699, 800, 2900, 4399, 1600, 1600, 2850, 2900, 1600, 2400, 1900, 2400, 2300, 1700, 1900, 2000, 2450, 1600, 2100, 1900, 2450, 1800, 3077, 1800]\n"
     ]
    }
   ],
   "source": [
    "print(prices)"
   ]
  },
  {
   "cell_type": "code",
   "execution_count": 12,
   "metadata": {},
   "outputs": [
    {
     "name": "stdout",
     "output_type": "stream",
     "text": [
      "Highest price: $4925\n"
     ]
    }
   ],
   "source": [
    "print(\"Highest price: ${}\".format(max(prices)))"
   ]
  },
  {
   "cell_type": "code",
   "execution_count": 13,
   "metadata": {},
   "outputs": [
    {
     "name": "stdout",
     "output_type": "stream",
     "text": [
      "Minimum price: $800\n"
     ]
    }
   ],
   "source": [
    "print(\"Minimum price: ${}\".format(min(prices)))"
   ]
  },
  {
   "cell_type": "code",
   "execution_count": 14,
   "metadata": {},
   "outputs": [
    {
     "name": "stdout",
     "output_type": "stream",
     "text": [
      "Average price: $2524.6583333333333\n"
     ]
    }
   ],
   "source": [
    "print(\"Average price: ${}\".format(sum(prices)/len(prices)))"
   ]
  },
  {
   "cell_type": "markdown",
   "metadata": {},
   "source": [
    "## Parsing Canadian Cities Apartment Listings"
   ]
  },
  {
   "cell_type": "code",
   "execution_count": 59,
   "metadata": {},
   "outputs": [],
   "source": [
    "r = requests.get(\"https://www.craigslist.org/about/sites\")"
   ]
  },
  {
   "cell_type": "code",
   "execution_count": 60,
   "metadata": {},
   "outputs": [],
   "source": [
    "r.raise_for_status()"
   ]
  },
  {
   "cell_type": "code",
   "execution_count": 61,
   "metadata": {},
   "outputs": [],
   "source": [
    "soup = BeautifulSoup(r.text, 'html.parser')"
   ]
  },
  {
   "cell_type": "code",
   "execution_count": 62,
   "metadata": {},
   "outputs": [],
   "source": [
    "ca_heading = soup.find('a', attrs={'name' : 'CA'} ).find_parent('h1')\n",
    "ca_content = ca_heading.find_next_sibling('div')"
   ]
  },
  {
   "cell_type": "code",
   "execution_count": 63,
   "metadata": {},
   "outputs": [],
   "source": [
    "pr_headings = ca_content.findAll('h4')\n",
    "cities = []"
   ]
  },
  {
   "cell_type": "code",
   "execution_count": 64,
   "metadata": {},
   "outputs": [],
   "source": [
    "for heading in pr_headings:\n",
    "    ul = heading.find_next_sibling('ul')\n",
    "    links = ul.findChildren('a')\n",
    "    \n",
    "    for link in links:\n",
    "        cities.append({\n",
    "            \n",
    "            'province' : heading.text,\n",
    "            'city' : link.text,\n",
    "            'url' : link.attrs['href']\n",
    "            \n",
    "        })"
   ]
  },
  {
   "cell_type": "code",
   "execution_count": 65,
   "metadata": {},
   "outputs": [
    {
     "name": "stdout",
     "output_type": "stream",
     "text": [
      "[{'province': 'Alberta', 'city': 'calgary', 'url': 'https://calgary.craigslist.ca/'}]\n"
     ]
    }
   ],
   "source": [
    "print(urls[0:1])"
   ]
  },
  {
   "cell_type": "code",
   "execution_count": 66,
   "metadata": {},
   "outputs": [],
   "source": [
    "for city in cities:\n",
    "    r = requests.get(\"{}/search/apa\".format(city['url']))\n",
    "    r.raise_for_status\n",
    "    soup = BeautifulSoup(r.text, 'html.parser')\n",
    "    price_spans = soup.select('span.result-price')\n",
    "    prices = [int(span.text[1:]) for span in price_spans]\n",
    "    city['prices'] = filter(lambda x: 100 < x < 10000, prices)\n",
    "    "
   ]
  },
  {
   "cell_type": "code",
   "execution_count": 67,
   "metadata": {},
   "outputs": [
    {
     "name": "stdout",
     "output_type": "stream",
     "text": [
      "{'province': 'Alberta', 'city': 'edmonton', 'url': 'https://edmonton.craigslist.ca/', 'prices': <filter object at 0x000000ADB6C6C278>}\n"
     ]
    }
   ],
   "source": [
    "print(cities[1])"
   ]
  },
  {
   "cell_type": "code",
   "execution_count": 68,
   "metadata": {},
   "outputs": [],
   "source": [
    "absmax = max(cities, key=lambda x: max(x['prices']))"
   ]
  },
  {
   "cell_type": "code",
   "execution_count": 69,
   "metadata": {},
   "outputs": [
    {
     "name": "stdout",
     "output_type": "stream",
     "text": [
      "{'province': 'British Columbia', 'city': 'cariboo', 'url': 'https://cariboo.craigslist.ca/', 'prices': <filter object at 0x000000ADB5E06320>}\n"
     ]
    }
   ],
   "source": [
    "print(absmax)"
   ]
  },
  {
   "cell_type": "code",
   "execution_count": 70,
   "metadata": {},
   "outputs": [
    {
     "ename": "ValueError",
     "evalue": "max() arg is an empty sequence",
     "output_type": "error",
     "traceback": [
      "\u001b[1;31m---------------------------------------------------------------------------\u001b[0m",
      "\u001b[1;31mValueError\u001b[0m                                Traceback (most recent call last)",
      "\u001b[1;32m<ipython-input-70-4ff11e140bfe>\u001b[0m in \u001b[0;36m<module>\u001b[1;34m\u001b[0m\n\u001b[1;32m----> 1\u001b[1;33m \u001b[0mprint\u001b[0m\u001b[1;33m(\u001b[0m\u001b[1;34m\"Highest price in Canda: ${} found in {}, {} \"\u001b[0m\u001b[1;33m.\u001b[0m\u001b[0mformat\u001b[0m\u001b[1;33m(\u001b[0m\u001b[0mmax\u001b[0m\u001b[1;33m(\u001b[0m\u001b[0mabsmax\u001b[0m\u001b[1;33m[\u001b[0m\u001b[1;34m'prices'\u001b[0m\u001b[1;33m]\u001b[0m\u001b[1;33m)\u001b[0m\u001b[1;33m,\u001b[0m \u001b[0mabsmax\u001b[0m\u001b[1;33m[\u001b[0m\u001b[1;34m'city'\u001b[0m\u001b[1;33m]\u001b[0m\u001b[1;33m,\u001b[0m \u001b[0mabsmax\u001b[0m\u001b[1;33m[\u001b[0m\u001b[1;34m'province'\u001b[0m\u001b[1;33m]\u001b[0m\u001b[1;33m)\u001b[0m\u001b[1;33m)\u001b[0m\u001b[1;33m\u001b[0m\u001b[1;33m\u001b[0m\u001b[0m\n\u001b[0m",
      "\u001b[1;31mValueError\u001b[0m: max() arg is an empty sequence"
     ]
    }
   ],
   "source": [
    "print(\"Highest price in Canda: ${} found in {}, {} \".format(max(absmax['prices']), absmax['city'], absmax['province']))"
   ]
  },
  {
   "cell_type": "code",
   "execution_count": 33,
   "metadata": {},
   "outputs": [],
   "source": [
    "absmin = min(cities, key=lambda x: min(x['prices']))"
   ]
  },
  {
   "cell_type": "code",
   "execution_count": 37,
   "metadata": {},
   "outputs": [
    {
     "name": "stdout",
     "output_type": "stream",
     "text": [
      "Lowest price in Canda: $3200 found in peace river country, Alberta \n"
     ]
    }
   ],
   "source": [
    "print(\"Lowest price in Canda: ${} found in {}, {} \".format(max(absmin['prices']), absmin['city'], absmin['province']))"
   ]
  },
  {
   "cell_type": "code",
   "execution_count": 40,
   "metadata": {},
   "outputs": [],
   "source": [
    "maxavg = max(cities, key=lambda x: sum(x['prices'])/len(x['prices']))"
   ]
  },
  {
   "cell_type": "code",
   "execution_count": 43,
   "metadata": {},
   "outputs": [
    {
     "name": "stdout",
     "output_type": "stream",
     "text": [
      "Highest average price: $248232443.0, found in comox valley, British Columbia\n"
     ]
    }
   ],
   "source": [
    "print(\"Highest average price: ${}, found in {}, {}\".format(sum(maxavg['prices'])/len(['prices']), maxavg['city'], maxavg['province']))"
   ]
  },
  {
   "cell_type": "code",
   "execution_count": 44,
   "metadata": {},
   "outputs": [],
   "source": [
    "minavg = min(cities, key=lambda x: sum(x['prices'])/len(x['prices']))"
   ]
  },
  {
   "cell_type": "code",
   "execution_count": 45,
   "metadata": {},
   "outputs": [
    {
     "name": "stdout",
     "output_type": "stream",
     "text": [
      "Lowest average price: $700.0, found in whitehorse, Yukon Territory\n"
     ]
    }
   ],
   "source": [
    "print(\"Lowest average price: ${}, found in {}, {}\".format(sum(minavg['prices'])/len(['prices']), minavg['city'], minavg['province']))"
   ]
  },
  {
   "cell_type": "code",
   "execution_count": null,
   "metadata": {},
   "outputs": [],
   "source": []
  }
 ],
 "metadata": {
  "kernelspec": {
   "display_name": "Python 3",
   "language": "python",
   "name": "python3"
  },
  "language_info": {
   "codemirror_mode": {
    "name": "ipython",
    "version": 3
   },
   "file_extension": ".py",
   "mimetype": "text/x-python",
   "name": "python",
   "nbconvert_exporter": "python",
   "pygments_lexer": "ipython3",
   "version": "3.7.3"
  }
 },
 "nbformat": 4,
 "nbformat_minor": 2
}

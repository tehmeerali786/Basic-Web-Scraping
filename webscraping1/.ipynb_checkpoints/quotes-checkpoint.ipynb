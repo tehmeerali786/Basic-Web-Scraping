{
 "cells": [
  {
   "cell_type": "code",
   "execution_count": 3,
   "metadata": {},
   "outputs": [],
   "source": [
    "from urllib.request import urlopen as uReq"
   ]
  },
  {
   "cell_type": "code",
   "execution_count": 4,
   "metadata": {},
   "outputs": [],
   "source": [
    "from bs4 import BeautifulSoup as soup"
   ]
  },
  {
   "cell_type": "code",
   "execution_count": 5,
   "metadata": {},
   "outputs": [],
   "source": [
    "quotes_page = 'https://www.forbes.com/sites/steveodland/2012/10/04/my-favorite-quotes/#385a6f923890'"
   ]
  },
  {
   "cell_type": "code",
   "execution_count": 6,
   "metadata": {},
   "outputs": [],
   "source": [
    "uClient = uReq(quotes_page)"
   ]
  },
  {
   "cell_type": "code",
   "execution_count": 7,
   "metadata": {},
   "outputs": [],
   "source": [
    "page_html = uClient.read()"
   ]
  },
  {
   "cell_type": "code",
   "execution_count": 8,
   "metadata": {},
   "outputs": [],
   "source": [
    "page_soup = soup(page_html, \"html.parser\")"
   ]
  },
  {
   "cell_type": "code",
   "execution_count": 9,
   "metadata": {},
   "outputs": [],
   "source": [
    "quotes = page_soup.findAll(\"p\")"
   ]
  },
  {
   "cell_type": "code",
   "execution_count": 10,
   "metadata": {},
   "outputs": [
    {
     "data": {
      "text/plain": [
       "35"
      ]
     },
     "execution_count": 10,
     "metadata": {},
     "output_type": "execute_result"
    }
   ],
   "source": [
    "len(quotes)"
   ]
  },
  {
   "cell_type": "code",
   "execution_count": 13,
   "metadata": {},
   "outputs": [
    {
     "name": "stdout",
     "output_type": "stream",
     "text": [
      "Like many people, I seek inspiration in the thoughts and words of others.  So much wisdom is created over a lifetime of experience that I wish people could bottle it up and pass it along directly to others.  One way that wisdom is packaged is in the quotations codified and passed along by authors, scientists, sports figures, and others.  For years, I have kept a collection of quotations that inspire me.  Here are some of my favorite quotes:\n",
      "\"Confidence is what you have before you understand the problem.\" -- Woody Allen\n",
      "“You miss 100% of the shots you don't take.” -- Wayne Gretzky\n",
      "“The reasonable man adapts himself to the world; the unreasonable one persists in trying to adapt the world to himself. Therefore, all progress depends on the unreasonable man.” -- George Bernard Shaw\n",
      "\n",
      "“The best way to predict the future is to invent it.” -- Alan Kay\n",
      "“No problem can be solved by the same consciousness that created it.” – Albert Einstein\n",
      "“It is not the strongest of the species that survive, it is the one that adapts successfully to change.” – Charles Darwin\n",
      "“It's what you learn after you know it all that counts.” --John Wooden\n",
      "\"Those who would give up Essential Liberty to purchase a little Temporary Safety, deserve neither Liberty nor Safety.\" -- Benjamin Franklin\n",
      "“The further we are from the last disaster, the closer we are to the next.” – Daniel Silva, The Kill Artist\n",
      "“Nothing is as vulnerable as entrenched success.” – George Romney\n",
      "“I skate to where the puck is going to be, not where it has been.” -- Wayne Gretzky\n",
      "“Sometimes your joy is the source of your smile, but sometimes your smile can be the source of your joy.” -- Thich Nhat Hanh\n",
      "“Whether you think you can or think you can't, you're right.” --Henry Ford\n",
      "“We are not human beings on a spiritual journey. We are spiritual beings on a human journey.”  -- Stephen Covey\n",
      "“And in the end it's not the years in your life that count. It's the life in your years.” -- Abraham Lincoln\n",
      "“The best way to find yourself is to lose yourself in the service of others.” -- Mohandas Ghandi\n",
      "“Let us more and more insist on raising funds of love, of kindness, of understanding, of peace.”  --Mother Teresa\n",
      "“Happiness is not having what you want, but wanting what you have.” -- Hyman Schachtel\n",
      "“The best and most beautiful things in this world cannot be seen or even heard, but must be felt with the heart.” -- Helen Keller\n",
      "“Fall seven times, stand up eight.” -- Japanese proverb\n",
      "“Twenty years from now you will be more disappointed by the things you didn't do than by the ones you did do. So throw off the bowlines. Sail away from the safe harbor. Catch the trade winds in your sails. Explore. Dream. Discover.” --Mark Twain\n",
      "“Challenges are what make life interesting; overcoming them is what makes life meaningful.” -- Joshua J. Marine\n",
      "“It is never too late to be what we might have been.” -- George Eliot\n",
      "“To love and win is the best thing. To love and lose, the next best.” -- William M. Thackeray\n",
      "“Experience is simply the name we give our mistakes.” -- Oscar Wilde\n",
      "“Study nature, love nature, stay close to nature. It will never fail you.” -- Frank Lloyd Wright\n",
      "“This, too, shall pass.” -- Jewish proverb\n",
      "“The only way to have a friend is to be one.” -- Ralph Waldo Emerson\n",
      "“I have learned that if one advances confidently in the direction of his dreams, and endeavors to live the life he has imagined, he will meet with a success unexpected in common hours.”  --Henry David Thoreau\n",
      "“If your success is not on your own terms, if it looks good to the world but does not feel good in your heart, it is not success at all.” -- Anna Quindlen\n",
      "-- Steve Odland\n",
      "\n",
      "Currently I am an Adjunct Professor at Lynn University. Previously I was Chairman & CEO of Office Depot, Inc., and AutoZone, Inc. I worked in consumer products at Qu...\n"
     ]
    }
   ],
   "source": [
    "for quote in quotes:\n",
    "    print(quote.text.strip())"
   ]
  },
  {
   "cell_type": "code",
   "execution_count": 14,
   "metadata": {},
   "outputs": [
    {
     "data": {
      "text/plain": [
       "<h1 _ngcontent-c12=\"\" class=\"fs-headline speakable-headline font-base\" classname=\"fs-headline speakable-headline  font-base\">My Favorite Quotes</h1>"
      ]
     },
     "execution_count": 14,
     "metadata": {},
     "output_type": "execute_result"
    }
   ],
   "source": [
    "page_soup.h1"
   ]
  },
  {
   "cell_type": "code",
   "execution_count": 15,
   "metadata": {},
   "outputs": [
    {
     "data": {
      "text/plain": [
       "'My Favorite Quotes'"
      ]
     },
     "execution_count": 15,
     "metadata": {},
     "output_type": "execute_result"
    }
   ],
   "source": [
    "page_soup.h1.text.strip()"
   ]
  },
  {
   "cell_type": "code",
   "execution_count": 17,
   "metadata": {},
   "outputs": [
    {
     "data": {
      "text/plain": [
       "'\"Confidence is what you have before you understand the problem.\" -- Woody Allen'"
      ]
     },
     "execution_count": 17,
     "metadata": {},
     "output_type": "execute_result"
    }
   ],
   "source": [
    "quotes[1].text.strip()"
   ]
  },
  {
   "cell_type": "code",
   "execution_count": null,
   "metadata": {},
   "outputs": [],
   "source": []
  }
 ],
 "metadata": {
  "kernelspec": {
   "display_name": "Python 3",
   "language": "python",
   "name": "python3"
  },
  "language_info": {
   "codemirror_mode": {
    "name": "ipython",
    "version": 3
   },
   "file_extension": ".py",
   "mimetype": "text/x-python",
   "name": "python",
   "nbconvert_exporter": "python",
   "pygments_lexer": "ipython3",
   "version": "3.7.3"
  }
 },
 "nbformat": 4,
 "nbformat_minor": 2
}
